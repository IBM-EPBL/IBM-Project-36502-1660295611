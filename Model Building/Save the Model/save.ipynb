{
 "cells": [
  {
   "cell_type": "markdown",
   "metadata": {},
   "source": [
    "{ “nbformat”: 4, “nbformat_minor”: 0, “metadata”: { “colab”: {\n",
    "“provenance”: \\[\\] }, “kernelspec”: { “name”: “python3”, “display_name”:\n",
    "“Python 3” }, “language_info”: { “name”: “python” } }, “cells”: \\[ {\n",
    "“cell_type”: “code”, “execution_count”: null, “metadata”: { “id”:\n",
    "“Tn1GpmT0lOTY” }, “outputs”: \\[\\], “source”: \\[ “model.save(r’D:\\\\IBM\n",
    "Project\\\\gesture.h5’)” \\] } \\] }"
   ]
  }
 ],
 "nbformat": 4,
 "nbformat_minor": 5,
 "metadata": {}
}
